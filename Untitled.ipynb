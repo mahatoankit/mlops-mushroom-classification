{
 "cells": [
  {
   "cell_type": "code",
   "execution_count": null,
   "id": "44664777-64ee-4fc6-9801-bb2ce919f6db",
   "metadata": {
    "editable": true,
    "slideshow": {
     "slide_type": ""
    },
    "tags": []
   },
   "outputs": [],
   "source": [
    "# If using Colab\n",
    "!pip install kds\n",
    "!pip install statsmodels\n",
    "!pip install ucimlrepo\n"
   ]
  },
  {
   "cell_type": "code",
   "execution_count": null,
   "id": "a4f2c8c7-0a8a-4998-b5aa-35f2588da1a6",
   "metadata": {
    "editable": true,
    "slideshow": {
     "slide_type": ""
    },
    "tags": []
   },
   "outputs": [],
   "source": [
    "import matplotlib.pyplot as plt\n",
    "import pandas as pd\n",
    "import pylab as pl\n",
    "import numpy as np\n",
    "from matplotlib import style\n",
    "from matplotlib.legend_handler import HandlerBase\n",
    "import seaborn as sb\n",
    "import kds\n"
   ]
  },
  {
   "cell_type": "code",
   "execution_count": null,
   "id": "86d76fb4-3adc-4c0c-a65d-0026e80407ae",
   "metadata": {
    "editable": true,
    "slideshow": {
     "slide_type": ""
    },
    "tags": []
   },
   "outputs": [],
   "source": [
    "from ucimlrepo import fetch_ucirepo\n",
    "df = pd.read_csv(\"/content/secondary_data.csv\", delimiter=';')\n",
    "df.sample(10)\n"
   ]
  },
  {
   "cell_type": "code",
   "execution_count": null,
   "id": "20c0f655-363e-4367-8f2a-c55104cfef42",
   "metadata": {
    "editable": true,
    "slideshow": {
     "slide_type": ""
    },
    "tags": []
   },
   "outputs": [],
   "source": [
    "# Rename columns\n",
    "columns_dict = {}\n",
    "for i in df.columns:\n",
    "    r = i.replace('-', '_')\n",
    "    columns_dict[i] = r\n",
    "df = df.rename(columns=columns_dict)\n",
    "df.columns\n"
   ]
  },
  {
   "cell_type": "code",
   "execution_count": null,
   "id": "c0753f29-b359-4fb3-8ede-293744876c6e",
   "metadata": {
    "editable": true,
    "slideshow": {
     "slide_type": ""
    },
    "tags": []
   },
   "outputs": [],
   "source": [
    "df.info()\n"
   ]
  },
  {
   "cell_type": "code",
   "execution_count": null,
   "id": "3d826fe1-f398-4cfa-8fc5-545143ea5832",
   "metadata": {
    "editable": true,
    "slideshow": {
     "slide_type": ""
    },
    "tags": []
   },
   "outputs": [],
   "source": [
    "sb.heatmap(df.isnull(), yticklabels=False, cbar=True)\n"
   ]
  },
  {
   "cell_type": "code",
   "execution_count": null,
   "id": "b6c5aa46-7c16-4d2d-9f0d-e0c975ba085c",
   "metadata": {
    "editable": true,
    "slideshow": {
     "slide_type": ""
    },
    "tags": []
   },
   "outputs": [],
   "source": [
    "df.drop(columns=['gill_spacing','stem_surface','stem_root', 'spore_print_color', 'veil_type', 'veil_color'], axis=1, inplace=True)"
   ]
  },
  {
   "cell_type": "code",
   "execution_count": null,
   "id": "0dc837af-f1d9-4f5a-97d1-2ffca0d8c3b4",
   "metadata": {
    "editable": true,
    "slideshow": {
     "slide_type": ""
    },
    "tags": []
   },
   "outputs": [],
   "source": [
    "# Label Encoding\n",
    "from sklearn.preprocessing import LabelEncoder\n",
    "label_encoder = LabelEncoder()\n",
    "\n",
    "df['cap_surface_encoded'] = label_encoder.fit_transform(df['cap_surface'])\n",
    "cap_surface_data = dict(zip(label_encoder.classes_, range(len(label_encoder.classes_))))\n",
    "df['cap_surface_encoded'].replace({11: np.nan}, inplace=True)\n"
   ]
  },
  {
   "cell_type": "code",
   "execution_count": null,
   "id": "0cf9311a-cca3-4d47-814c-508da397132e",
   "metadata": {
    "editable": true,
    "slideshow": {
     "slide_type": ""
    },
    "tags": []
   },
   "outputs": [],
   "source": [
    "# Proportional Imputation\n",
    "from sklearn.utils import resample\n",
    "def proportional_imputation(column):\n",
    "    missing = column.isnull()\n",
    "    filled = resample(column[~missing], n_samples=missing.sum(), replace=True)\n",
    "    column[missing] = filled\n",
    "    return column\n",
    "\n",
    "df['cap_surface_imputed'] = proportional_imputation(df['cap_surface_encoded'])\n"
   ]
  },
  {
   "cell_type": "code",
   "execution_count": null,
   "id": "186bfe16-ca7b-4e32-a8a6-d042037c5990",
   "metadata": {
    "editable": true,
    "slideshow": {
     "slide_type": ""
    },
    "tags": []
   },
   "outputs": [],
   "source": [
    "# Distribution plots\n",
    "def plot_cat(dataset, feature, set_color=None):\n",
    "    ax = sb.countplot(data=dataset, x=feature, color=set_color)\n",
    "\n",
    "plt.figure(figsize=(25, 5))\n",
    "plt.suptitle('Effects of Imputation on Cap_surface')\n",
    "plt.subplot(1,2,1)\n",
    "plot_cat(df,'cap_surface_encoded')\n",
    "plt.subplot(1,2,2)\n",
    "plot_cat(df,'cap_surface_imputed', set_color='lightseagreen')\n",
    "plt.show()\n"
   ]
  },
  {
   "cell_type": "code",
   "execution_count": null,
   "id": "925a79a6-31be-40ec-9a82-5043fddb734b",
   "metadata": {
    "editable": true,
    "slideshow": {
     "slide_type": ""
    },
    "tags": []
   },
   "outputs": [],
   "source": [
    "cap_surface_data = {value: key for key, value in cap_surface_data.items()}\n",
    "df['cap_surface_imputed'] = df['cap_surface_imputed'].map(cap_surface_data)\n"
   ]
  },
  {
   "cell_type": "code",
   "execution_count": null,
   "id": "edd3f72a-2ba4-4153-83d7-6097df4bab53",
   "metadata": {
    "editable": true,
    "slideshow": {
     "slide_type": ""
    },
    "tags": []
   },
   "outputs": [],
   "source": [
    "cap_surface_data = {value: key for key, value in cap_surface_data.items()}\n",
    "df['cap_surface_imputed'] = df['cap_surface_imputed'].map(cap_surface_data)\n"
   ]
  },
  {
   "cell_type": "code",
   "execution_count": null,
   "id": "d203e0cc-1763-4dac-8198-4841f1532be0",
   "metadata": {
    "editable": true,
    "slideshow": {
     "slide_type": ""
    },
    "tags": []
   },
   "outputs": [],
   "source": [
    "df_imputed['class_encoded'] = label_encoder.fit_transform(df_imputed['class'])\n",
    "df_imputed['does_bruise_or_bleed_encoded'] = label_encoder.fit_transform(df_imputed['does_bruise_or_bleed'])\n",
    "df_imputed['has_ring_encoded'] = label_encoder.fit_transform(df_imputed['has_ring'])\n"
   ]
  },
  {
   "cell_type": "code",
   "execution_count": null,
   "id": "ba28b43f-b25a-4e5e-a3a2-53d3c7f8db52",
   "metadata": {
    "editable": true,
    "slideshow": {
     "slide_type": ""
    },
    "tags": []
   },
   "outputs": [],
   "source": [
    "# Replace rare categories\n",
    "df_imputed['habitat'] = df_imputed['habitat'].replace(['m', 'h', 'p', 'w', 'u'], 'Other')\n",
    "df_imputed['stem_color'] = df_imputed['stem_color'].replace(['u', 'b', 'l', 'r', 'p', 'e', 'k', 'g', 'o', 'f'], 'Other')\n",
    "df_imputed['gill_color'] = df_imputed['gill_color'].replace(['u', 'b', 'r', 'g', 'e', 'o', 'k','f'], 'Other')\n",
    "df_imputed['cap_color'] = df_imputed['cap_color'].replace(['o', 'r', 'p', 'g', 'u', 'b', 'l', 'k'], 'Other')\n",
    "df_imputed['cap_shape'] = df_imputed['cap_shape'].replace(['p','c','o'], 'Other')\n",
    "df_imputed['cap_surface_imputed'] = df_imputed['cap_surface_imputed'].replace([ 'g', 'e', 'l', 'd', 'w', 'i', 'k'], 'Other')\n",
    "df_imputed['ring_type_imputed'] = df_imputed['ring_type_imputed'].replace(['g', 'p', 'e', 'l', 'm', 'r', 'z'], 'Other')\n"
   ]
  },
  {
   "cell_type": "code",
   "execution_count": null,
   "id": "2b7cfe80-43ad-4c03-a40b-175bbce864e8",
   "metadata": {
    "editable": true,
    "slideshow": {
     "slide_type": ""
    },
    "tags": []
   },
   "outputs": [],
   "source": [
    "from scipy.stats import zscore\n",
    "\n",
    "df_cleaned['z_cap_diameter'] = zscore(df_cleaned['cap_diameter'])\n",
    "df_cleaned['z_stem_height'] = zscore(df_cleaned['stem_height'])\n",
    "df_cleaned['z_stem_width'] = zscore(df_cleaned['stem_width'])\n",
    "\n",
    "outliers = df_cleaned[\n",
    "    (df_cleaned['z_cap_diameter'].abs() > 2.5) |\n",
    "    (df_cleaned['z_stem_height'].abs() > 2.5) |\n",
    "    (df_cleaned['z_stem_width'].abs() > 2.5)\n",
    "]\n"
   ]
  },
  {
   "cell_type": "code",
   "execution_count": null,
   "id": "eda96a11-bcd6-4008-aac6-e0b1505ff09d",
   "metadata": {
    "editable": true,
    "slideshow": {
     "slide_type": ""
    },
    "tags": []
   },
   "outputs": [],
   "source": [
    "outlier_indices = outliers.index\n",
    "df_cleaned = df_cleaned.drop(outlier_indices).reset_index(drop=True)\n",
    "df_cleaned.drop(columns=['z_cap_diameter', 'z_stem_height', 'z_stem_width'], inplace=True)\n"
   ]
  },
  {
   "cell_type": "code",
   "execution_count": null,
   "id": "c264de8b-150a-4360-a025-3fbbb32856d9",
   "metadata": {
    "editable": true,
    "slideshow": {
     "slide_type": ""
    },
    "tags": []
   },
   "outputs": [],
   "source": [
    "df_dummies = pd.get_dummies(df_cleaned, dtype=int, drop_first=True)\n"
   ]
  },
  {
   "cell_type": "code",
   "execution_count": null,
   "id": "56f4c505-b8ca-4931-bfe4-37edc1e7e4c6",
   "metadata": {
    "editable": true,
    "slideshow": {
     "slide_type": ""
    },
    "tags": []
   },
   "outputs": [],
   "source": [
    "from statsmodels.stats.outliers_influence import variance_inflation_factor\n",
    "\n",
    "X = df_dummies.drop(columns=[\"class_encoded\"])\n",
    "vif_data = pd.DataFrame()\n",
    "vif_data[\"feature\"] = X.columns\n",
    "vif_data[\"VIF\"] = [variance_inflation_factor(X.values, i) for i in range(X.shape[1])]\n",
    "print(vif_data)\n"
   ]
  },
  {
   "cell_type": "code",
   "execution_count": null,
   "id": "9bddde61-5005-4750-8324-c0658635c2cd",
   "metadata": {
    "editable": true,
    "slideshow": {
     "slide_type": ""
    },
    "tags": []
   },
   "outputs": [],
   "source": [
    "columns_to_drop = ['cap_diameter', 'stem_height', 'stem_width', 'cap_shape_x', 'habitat_d', 'ring_type_imputed_f']\n",
    "existing_columns_to_drop = [col for col in columns_to_drop if col in df_dummies.columns]\n",
    "df_dummies.drop(columns=existing_columns_to_drop, axis=1, inplace=True)\n"
   ]
  },
  {
   "cell_type": "code",
   "execution_count": null,
   "id": "f4ba67c7-9b9a-4c9c-888e-9cfc2f3db284",
   "metadata": {
    "editable": true,
    "slideshow": {
     "slide_type": ""
    },
    "tags": []
   },
   "outputs": [],
   "source": [
    "import statsmodels.api as sm\n",
    "logit_model = sm.Logit(df_dummies['class_encoded'], df_dummies.drop(['class_encoded'], axis=1))\n",
    "result = logit_model.fit()\n",
    "result.summary2()\n"
   ]
  },
  {
   "cell_type": "code",
   "execution_count": null,
   "id": "d1ae64cc-8622-46d8-91ef-b7890a4032fa",
   "metadata": {
    "editable": true,
    "slideshow": {
     "slide_type": ""
    },
    "tags": []
   },
   "outputs": [],
   "source": [
    "from sklearn.ensemble import RandomForestClassifier\n",
    "\n",
    "forest = RandomForestClassifier(n_jobs=-1)\n",
    "forest.fit(df_dummies.drop(['class_encoded'], axis=1), df_dummies['class_encoded'])\n",
    "\n",
    "Importance_Table = pd.concat([\n",
    "    pd.DataFrame({'Variables Independientes': list(df_dummies.drop(['class_encoded'], axis=1).columns)}),\n",
    "    pd.DataFrame({'Importancia': list(forest.feature_importances_)})\n",
    "], axis=1)\n",
    "\n",
    "Variables_Importance = Importance_Table.sort_values('Importancia', ascending=False)\n",
    "print(Variables_Importance)\n"
   ]
  },
  {
   "cell_type": "code",
   "execution_count": null,
   "id": "9664f28d-1937-4c62-bb9a-8a2cbccf20a1",
   "metadata": {
    "editable": true,
    "slideshow": {
     "slide_type": ""
    },
    "tags": []
   },
   "outputs": [],
   "source": [
    "df_reg = df_dummies[['class_encoded', 'stem_color_w', 'stem_color_y', 'cap_shape_b',\n",
    "                     'cap_shape_f', 'gill_color_n', 'gill_color_w', 'has_ring_encoded',\n",
    "                     'cap_color_e', 'cap_color_n', 'does_bruise_or_bleed_encoded', 'habitat_g',\n",
    "                     'habitat_l', 'gill_attachment_imputed_e', 'gill_attachment_imputed_p',\n",
    "                     'cap_surface_imputed_s', 'cap_surface_imputed_h', 'season_w']]\n"
   ]
  },
  {
   "cell_type": "code",
   "execution_count": null,
   "id": "8739fc99-0a23-4694-b256-11958577ee2b",
   "metadata": {
    "editable": true,
    "slideshow": {
     "slide_type": ""
    },
    "tags": []
   },
   "outputs": [],
   "source": [
    "y = df_reg['class_encoded']\n",
    "X = df_reg.drop('class_encoded', axis=1)\n",
    "\n",
    "from sklearn.model_selection import train_test_split\n",
    "X_train, X_test, y_train, y_test = train_test_split(X, y, test_size=0.3, random_state=42)\n"
   ]
  },
  {
   "cell_type": "code",
   "execution_count": null,
   "id": "e7abcf58-fa54-4340-8c9a-d8dc553d162f",
   "metadata": {
    "editable": true,
    "slideshow": {
     "slide_type": ""
    },
    "tags": []
   },
   "outputs": [],
   "source": [
    "from sklearn.linear_model import LogisticRegression\n",
    "from sklearn.metrics import confusion_matrix, accuracy_score, precision_score, recall_score, f1_score\n",
    "\n",
    "lr = LogisticRegression()\n",
    "lr.fit(X_train, y_train)\n",
    "\n",
    "y_pred_test = lr.predict(X_test)\n",
    "y_pred_train = lr.predict(X_train)\n"
   ]
  },
  {
   "cell_type": "code",
   "execution_count": null,
   "id": "153c68ce-ade6-46ef-b26b-161c51a3b6a1",
   "metadata": {
    "editable": true,
    "slideshow": {
     "slide_type": ""
    },
    "tags": []
   },
   "outputs": [],
   "source": [
    "def calc_metrics(y_train, y_pred_train, y_test, y_pred_test):\n",
    "    print('Matriz de confusión: Train')\n",
    "    print(confusion_matrix(y_train, y_pred_train))\n",
    "    print('Matriz de confusión: Test')\n",
    "    print(confusion_matrix(y_test, y_pred_test))\n",
    "    print('Accuracy: Train')\n",
    "    print(accuracy_score(y_train, y_pred_train))\n",
    "    print('Accuracy: Test')\n",
    "    print(accuracy_score(y_test, y_pred_test))\n",
    "    print('Precision: Train')\n",
    "    print(precision_score(y_train, y_pred_train))\n",
    "    print('Precision: Test')\n",
    "    print(precision_score(y_test, y_pred_test))\n",
    "    print('Recall: Train')\n",
    "    print(recall_score(y_train, y_pred_train))\n",
    "    print('Recall: Test')\n",
    "    print(recall_score(y_test, y_pred_test))\n",
    "\n",
    "calc_metrics(y_train, y_pred_train, y_test, y_pred_test)\n"
   ]
  },
  {
   "cell_type": "code",
   "execution_count": null,
   "id": "74841d7f-648c-4eac-ae36-d74a76f4346b",
   "metadata": {
    "editable": true,
    "slideshow": {
     "slide_type": ""
    },
    "tags": []
   },
   "outputs": [],
   "source": [
    "TP, FN, FP, TN = confusion_matrix(y_test, y_pred_test).ravel()\n",
    "d = np.sqrt((TP+FP)*(TP+FN)*(TN+FP)*(TN+FN))\n",
    "MCC = ((TP*TN)-(FP*FN))/(d)\n"
   ]
  },
  {
   "cell_type": "code",
   "execution_count": null,
   "id": "4ef6511a-f804-4103-ac04-e2a408528d2c",
   "metadata": {
    "editable": true,
    "slideshow": {
     "slide_type": ""
    },
    "tags": []
   },
   "outputs": [],
   "source": [
    "ind = pd.DataFrame(columns = ['Modelo', 'F1Score'])\n",
    "f1score = f1_score(y_test, y_pred_test)\n",
    "new_row = pd.DataFrame({'Modelo': ['LogisticReg'], 'F1Score': [f1score], 'MCC':[MCC]})\n",
    "ind = pd.concat([ind, new_row], ignore_index=True)\n"
   ]
  },
  {
   "cell_type": "code",
   "execution_count": null,
   "id": "ee63aa86-a266-4e74-8884-5fc875eb6b23",
   "metadata": {
    "editable": true,
    "slideshow": {
     "slide_type": ""
    },
    "tags": []
   },
   "outputs": [],
   "source": [
    "from sklearn.tree import DecisionTreeClassifier\n",
    "\n",
    "dt_cl = DecisionTreeClassifier(criterion='gini', max_depth=12)\n",
    "dt_cl = dt_cl.fit(X_train, y_train)\n",
    "\n",
    "y_pred_train = dt_cl.predict(X_train)\n",
    "y_pred_test = dt_cl.predict(X_test)\n",
    "\n",
    "calc_metrics(y_train, y_pred_train, y_test, y_pred_test)\n"
   ]
  },
  {
   "cell_type": "code",
   "execution_count": null,
   "id": "c31fae76-e133-40a6-822a-3cb408b8831d",
   "metadata": {
    "editable": true,
    "slideshow": {
     "slide_type": ""
    },
    "tags": []
   },
   "outputs": [],
   "source": [
    "TP, FN, FP, TN = confusion_matrix(y_test, y_pred_test).ravel()\n",
    "d = np.sqrt((TP+FP)*(TP+FN)*(TN+FP)*(TN+FN))\n",
    "MCC = ((TP*TN)-(FP*FN))/(d)\n",
    "\n",
    "f1score = f1_score(y_test, y_pred_test)\n",
    "new_row = pd.DataFrame({'Modelo': ['DecTreeClass'], 'F1Score': [f1score], 'MCC':[MCC]})\n",
    "ind = pd.concat([ind, new_row], ignore_index=True)\n"
   ]
  },
  {
   "cell_type": "code",
   "execution_count": null,
   "id": "786e1ccd-2d24-406c-a106-942192213722",
   "metadata": {
    "editable": true,
    "slideshow": {
     "slide_type": ""
    },
    "tags": []
   },
   "outputs": [],
   "source": [
    "lr_prob = lr.predict_proba(X_test)[:, 1]\n",
    "dt_prob = dt_cl.predict_proba(X_test)[:, 1]\n",
    "\n",
    "from sklearn.metrics import roc_curve, roc_auc_score\n",
    "r_prob = [0 for _ in range(len(y_test))]\n",
    "\n",
    "r_auc = roc_auc_score(y_test, r_prob)\n",
    "lr_auc = roc_auc_score(y_test, lr_prob)\n",
    "dt_auc = roc_auc_score(y_test, dt_prob)\n"
   ]
  },
  {
   "cell_type": "code",
   "execution_count": null,
   "id": "3d3ca7a7-ea41-485e-b044-51ef4e740cfb",
   "metadata": {
    "editable": true,
    "slideshow": {
     "slide_type": ""
    },
    "tags": []
   },
   "outputs": [],
   "source": [
    "print('Random (chance) Prediction: AUROC = %.3f' % r_auc)\n",
    "print('Logistic Regression: AUROC = %.3f' % lr_auc)\n",
    "print('Decision Tree: AUROC = %.3f' % dt_auc)\n"
   ]
  },
  {
   "cell_type": "code",
   "execution_count": null,
   "id": "f29a2271-3ba8-48c6-ab9d-99604c853ab4",
   "metadata": {
    "editable": true,
    "slideshow": {
     "slide_type": ""
    },
    "tags": []
   },
   "outputs": [],
   "source": [
    "r_fpr, r_tpr, _ = roc_curve(y_test, r_prob)\n",
    "lr_fpr, lr_tpr, _ = roc_curve(y_test, lr_prob)\n",
    "dt_fpr, dt_tpr, _ = roc_curve(y_test, dt_prob)\n",
    "\n",
    "plt.plot(r_fpr, r_tpr, linestyle='--', label='Random (AUROC = %.3f)' % r_auc)\n",
    "plt.plot(lr_fpr, lr_tpr, linestyle='--', label='Logistic (AUROC = %.3f)' % lr_auc)\n",
    "plt.plot(dt_fpr, dt_tpr, linestyle='--', label='Decision Tree (AUROC = %.3f)' % dt_auc)\n",
    "plt.title('ROC Plot')\n",
    "plt.xlabel('False Positive Rate')\n",
    "plt.ylabel('True Positive Rate')\n",
    "plt.legend()\n",
    "plt.show()\n"
   ]
  }
 ],
 "metadata": {
  "kernelspec": {
   "display_name": "Python 3 (ipykernel)",
   "language": "python",
   "name": "python3"
  },
  "language_info": {
   "codemirror_mode": {
    "name": "ipython",
    "version": 3
   },
   "file_extension": ".py",
   "mimetype": "text/x-python",
   "name": "python",
   "nbconvert_exporter": "python",
   "pygments_lexer": "ipython3",
   "version": "3.9.21"
  }
 },
 "nbformat": 4,
 "nbformat_minor": 5
}
